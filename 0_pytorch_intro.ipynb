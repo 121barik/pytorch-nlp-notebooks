{
 "cells": [
  {
   "cell_type": "markdown",
   "metadata": {},
   "source": [
    "<center><h1>PyTorch Introduction with Feed-forward Neural Network</h1></center>\n",
    "\n",
    "\n",
    "- https://pytorch.org/tutorials/beginner/deep_learning_60min_blitz.html\n",
    "- https://pytorch.org/tutorials/beginner/deep_learning_nlp_tutorial.html \n",
    "\n",
    "\n",
    "1. load example \n",
    "1. introduce tensor operations \n",
    "2. NN intro : https://pytorch.org/tutorials/beginner/nlp/deep_learning_tutorial.html#sphx-glr-beginner-nlp-deep-learning-tutorial-py \n",
    "2. introduce how to build model structure --> dynamic graphs & auto-differentiation\n",
    "4. introduce data loader \n",
    "\n",
    "\n",
    "hands on steps:\n",
    "1. clone repo, create venv & install dependencies\n",
    "2. practice "
   ]
  },
  {
   "cell_type": "markdown",
   "metadata": {},
   "source": [
    "## create example dataset"
   ]
  },
  {
   "cell_type": "code",
   "execution_count": 4,
   "metadata": {},
   "outputs": [],
   "source": [
    "import torch\n",
    "from torch import FloatTensor\n",
    "from torch.autograd import Variable\n",
    "\n",
    "# from IPython.display import Image\n",
    "# Image(\"img/picture.png\")"
   ]
  },
  {
   "cell_type": "code",
   "execution_count": 20,
   "metadata": {},
   "outputs": [],
   "source": [
    "import numpy as np\n",
    "import torch\n",
    "from torch.utils.data import Dataset\n",
    "from torch.utils.data import DataLoader\n",
    "\n",
    "import matplotlib.pyplot as plt"
   ]
  },
  {
   "cell_type": "markdown",
   "metadata": {},
   "source": [
    "## 1. Tensors\n",
    "\n",
    "![Tensors](images/tensors.jpg)\n",
    "\n",
    "#### sample from uniform distribution"
   ]
  },
  {
   "cell_type": "code",
   "execution_count": 8,
   "metadata": {},
   "outputs": [
    {
     "name": "stdout",
     "output_type": "stream",
     "text": [
      "torch.Size([3, 2, 4])\n"
     ]
    },
    {
     "data": {
      "text/plain": [
       "tensor([[[9.3290e-01, 1.8002e-01, 7.6481e-01, 7.8839e-01],\n",
       "         [2.2025e-02, 1.8197e-01, 3.3011e-02, 1.4004e-01]],\n",
       "\n",
       "        [[7.0514e-01, 2.8230e-01, 8.3122e-01, 2.1743e-01],\n",
       "         [2.8923e-02, 7.9992e-01, 7.5044e-01, 6.9387e-01]],\n",
       "\n",
       "        [[3.6114e-01, 2.1788e-01, 9.9166e-01, 2.9854e-02],\n",
       "         [5.6667e-01, 9.9337e-01, 6.9594e-04, 7.8854e-01]]])"
      ]
     },
     "execution_count": 8,
     "metadata": {},
     "output_type": "execute_result"
    }
   ],
   "source": [
    "## sample from uniform distribution on interval [0,1)\n",
    "a = torch.rand([3, 2, 4], dtype=torch.float)\n",
    "print(a.size())\n",
    "a"
   ]
  },
  {
   "cell_type": "code",
   "execution_count": 24,
   "metadata": {},
   "outputs": [
    {
     "data": {
      "text/plain": [
       "(array([1025.,  965., 1036.,  975., 1007., 1011.,  980., 1081.,  974.,\n",
       "         946.]),\n",
       " array([2.0182133e-04, 1.0017974e-01, 2.0015766e-01, 3.0013558e-01,\n",
       "        4.0011349e-01, 5.0009143e-01, 6.0006934e-01, 7.0004725e-01,\n",
       "        8.0002517e-01, 9.0000308e-01, 9.9998099e-01], dtype=float32),\n",
       " <a list of 10 Patch objects>)"
      ]
     },
     "execution_count": 24,
     "metadata": {},
     "output_type": "execute_result"
    },
    {
     "data": {
      "image/png": "[encoded data removed]",
      "text/plain": [
       "<Figure size 432x288 with 1 Axes>"
      ]
     },
     "metadata": {
      "needs_background": "light"
     },
     "output_type": "display_data"
    }
   ],
   "source": [
    "plt.hist(torch.rand(10000, dtype=torch.float))"
   ]
  },
  {
   "cell_type": "markdown",
   "metadata": {},
   "source": [
    "#### sample from standard normal distribution\n",
    "$$X \\sim \\mathcal{N}(\\mu,\\,\\sigma^{2})$$\n",
    "$$\\mu = 0, \\sigma^2 = 1$$"
   ]
  },
  {
   "cell_type": "code",
   "execution_count": 9,
   "metadata": {},
   "outputs": [
    {
     "name": "stdout",
     "output_type": "stream",
     "text": [
      "torch.Size([3, 2, 4])\n"
     ]
    },
    {
     "data": {
      "text/plain": [
       "tensor([[[-0.7470,  1.0582,  0.1937, -0.0603],\n",
       "         [ 0.3241,  1.3472, -0.9389,  0.3450]],\n",
       "\n",
       "        [[-0.4761, -1.2414,  0.4378,  1.4032],\n",
       "         [-0.0529, -0.2141,  0.7765, -1.5441]],\n",
       "\n",
       "        [[-1.6407, -0.4038, -1.0024,  1.2693],\n",
       "         [ 0.2396, -0.9658, -2.2389, -0.8972]]])"
      ]
     },
     "execution_count": 9,
     "metadata": {},
     "output_type": "execute_result"
    }
   ],
   "source": [
    "b = torch.randn([3, 2, 4], dtype=torch.float)\n",
    "print(b.size())\n",
    "b"
   ]
  },
  {
   "cell_type": "code",
   "execution_count": 23,
   "metadata": {},
   "outputs": [
    {
     "data": {
      "text/plain": [
       "(array([  1.,   1.,   3.,   3.,   8.,   8.,  23.,  27.,  42.,  86., 109.,\n",
       "        212., 225., 345., 429., 508., 635., 695., 791., 774., 813., 765.,\n",
       "        701., 601., 555., 439., 360., 262., 186., 136.,  98.,  69.,  34.,\n",
       "         29.,   9.,  10.,   4.,   3.,   1.]),\n",
       " array([-4.01592255, -3.8159225 , -3.61592245, -3.4159224 , -3.21592236,\n",
       "        -3.01592231, -2.81592226, -2.61592221, -2.41592216, -2.21592212,\n",
       "        -2.01592207, -1.81592202, -1.61592197, -1.41592193, -1.21592188,\n",
       "        -1.01592183, -0.81592178, -0.61592174, -0.41592169, -0.21592164,\n",
       "        -0.01592159,  0.18407845,  0.3840785 ,  0.58407855,  0.7840786 ,\n",
       "         0.98407865,  1.18407869,  1.38407874,  1.58407879,  1.78407884,\n",
       "         1.98407888,  2.18407893,  2.38407898,  2.58407903,  2.78407907,\n",
       "         2.98407912,  3.18407917,  3.38407922,  3.58407927,  3.78407931]),\n",
       " <a list of 39 Patch objects>)"
      ]
     },
     "execution_count": 23,
     "metadata": {},
     "output_type": "execute_result"
    },
    {
     "data": {
      "image/png": "[encoded data removed]",
      "text/plain": [
       "<Figure size 432x288 with 1 Axes>"
      ]
     },
     "metadata": {
      "needs_background": "light"
     },
     "output_type": "display_data"
    }
   ],
   "source": [
    "x = torch.randn(10000, dtype=torch.float)\n",
    "binwidth = 0.2\n",
    "plt.hist(\n",
    "    x,\n",
    "    bins=np.arange(min(x), max(x) + binwidth, binwidth),\n",
    ")"
   ]
  },
  {
   "cell_type": "code",
   "execution_count": 47,
   "metadata": {},
   "outputs": [
    {
     "data": {
      "text/plain": [
       "tensor([[1., 1.],\n",
       "        [1., 1.],\n",
       "        [1., 1.]])"
      ]
     },
     "execution_count": 47,
     "metadata": {},
     "output_type": "execute_result"
    }
   ],
   "source": [
    "# Ones\n",
    "torch.ones([3, 2], dtype=torch.float)"
   ]
  },
  {
   "cell_type": "code",
   "execution_count": 46,
   "metadata": {},
   "outputs": [
    {
     "data": {
      "text/plain": [
       "tensor([[0, 0],\n",
       "        [0, 0],\n",
       "        [0, 0]])"
      ]
     },
     "execution_count": 46,
     "metadata": {},
     "output_type": "execute_result"
    }
   ],
   "source": [
    "# Zeros\n",
    "torch.zeros([3, 2], dtype=torch.long)"
   ]
  },
  {
   "cell_type": "code",
   "execution_count": 49,
   "metadata": {},
   "outputs": [
    {
     "data": {
      "text/plain": [
       "tensor(-1.5846e+29)"
      ]
     },
     "execution_count": 49,
     "metadata": {},
     "output_type": "execute_result"
    }
   ],
   "source": [
    "torch.empty([3, 2])"
   ]
  },
  {
   "cell_type": "code",
   "execution_count": 29,
   "metadata": {},
   "outputs": [
    {
     "data": {
      "text/plain": [
       "tensor([-1.9711, -1.6125, -0.5584, -1.4938, -1.4421], dtype=torch.float64)"
      ]
     },
     "execution_count": 29,
     "metadata": {},
     "output_type": "execute_result"
    }
   ],
   "source": [
    "# create tensor from defined values\n",
    "inputs = np.random.normal(size = 5)\n",
    "torch.tensor(inputs)"
   ]
  },
  {
   "cell_type": "markdown",
   "metadata": {},
   "source": [
    "#### reshape tensor"
   ]
  },
  {
   "cell_type": "code",
   "execution_count": 43,
   "metadata": {},
   "outputs": [
    {
     "name": "stdout",
     "output_type": "stream",
     "text": [
      "tensor([[[[9.3290e-01, 1.8002e-01, 7.6481e-01],\n",
      "          [7.8839e-01, 2.2025e-02, 1.8197e-01]],\n",
      "\n",
      "         [[3.3011e-02, 1.4004e-01, 7.0514e-01],\n",
      "          [2.8230e-01, 8.3122e-01, 2.1743e-01]]],\n",
      "\n",
      "\n",
      "        [[[2.8923e-02, 7.9992e-01, 7.5044e-01],\n",
      "          [6.9387e-01, 3.6114e-01, 2.1788e-01]],\n",
      "\n",
      "         [[9.9166e-01, 2.9854e-02, 5.6667e-01],\n",
      "          [9.9337e-01, 6.9594e-04, 7.8854e-01]]]])\n",
      "tensor([[9.3290e-01, 1.8002e-01, 7.6481e-01, 7.8839e-01, 2.2025e-02, 1.8197e-01,\n",
      "         3.3011e-02, 1.4004e-01, 7.0514e-01, 2.8230e-01, 8.3122e-01, 2.1743e-01],\n",
      "        [2.8923e-02, 7.9992e-01, 7.5044e-01, 6.9387e-01, 3.6114e-01, 2.1788e-01,\n",
      "         9.9166e-01, 2.9854e-02, 5.6667e-01, 9.9337e-01, 6.9594e-04, 7.8854e-01]])\n"
     ]
    }
   ],
   "source": [
    "print(a.view(2, 2, 2, 3))\n",
    "print(a.view(2, -1))"
   ]
  },
  {
   "cell_type": "code",
   "execution_count": null,
   "metadata": {},
   "outputs": [],
   "source": []
  },
  {
   "cell_type": "markdown",
   "metadata": {},
   "source": [
    "## Create sample dataset"
   ]
  },
  {
   "cell_type": "code",
   "execution_count": null,
   "metadata": {},
   "outputs": [],
   "source": []
  },
  {
   "cell_type": "markdown",
   "metadata": {},
   "source": [
    "## 2. Tensor Operations"
   ]
  },
  {
   "cell_type": "code",
   "execution_count": 16,
   "metadata": {},
   "outputs": [
    {
     "data": {
      "text/plain": [
       "tensor([[1.7017, 1.7914, 1.4914, 1.4276, 1.9476],\n",
       "        [1.8033, 1.4952, 1.1866, 1.9514, 1.3953],\n",
       "        [1.0239, 1.6516, 1.8082, 1.2523, 1.0159],\n",
       "        [1.5697, 1.0099, 1.0467, 1.8801, 1.8705],\n",
       "        [1.3822, 1.4793, 1.0240, 1.2177, 1.5196],\n",
       "        [1.2991, 1.8800, 1.5323, 1.5808, 1.5694]])"
      ]
     },
     "execution_count": 16,
     "metadata": {},
     "output_type": "execute_result"
    }
   ],
   "source": [
    "result = torch.empty(50,5)\n",
    "torch.add(x, y, out=result)\n",
    "result"
   ]
  },
  {
   "cell_type": "code",
   "execution_count": 20,
   "metadata": {},
   "outputs": [
    {
     "data": {
      "text/plain": [
       "tensor([[1.7017, 1.7914, 1.4914, 1.4276, 1.9476],\n",
       "        [1.8033, 1.4952, 1.1866, 1.9514, 1.3953],\n",
       "        [1.0239, 1.6516, 1.8082, 1.2523, 1.0159],\n",
       "        [1.5697, 1.0099, 1.0467, 1.8801, 1.8705],\n",
       "        [1.3822, 1.4793, 1.0240, 1.2177, 1.5196],\n",
       "        [1.2991, 1.8800, 1.5323, 1.5808, 1.5694]])"
      ]
     },
     "execution_count": 20,
     "metadata": {},
     "output_type": "execute_result"
    }
   ],
   "source": [
    "y.add_(x)\n"
   ]
  },
  {
   "cell_type": "code",
   "execution_count": 33,
   "metadata": {},
   "outputs": [
    {
     "data": {
      "text/plain": [
       "tensor([[1.7017, 1.8033, 1.0239, 1.5697],\n",
       "        [1.7914, 1.4952, 1.6516, 1.0099],\n",
       "        [1.4914, 1.1866, 1.8082, 1.0467]])"
      ]
     },
     "execution_count": 33,
     "metadata": {},
     "output_type": "execute_result"
    }
   ],
   "source": [
    "x.t()"
   ]
  },
  {
   "cell_type": "code",
   "execution_count": 56,
   "metadata": {},
   "outputs": [
    {
     "data": {
      "text/plain": [
       "array([[1.7016623, 1.7914276, 1.491406 , 1.427597 , 1.9475865, 1.8033227,\n",
       "        1.4951804, 1.18656  , 1.9513848, 1.3952674],\n",
       "       [1.0239484, 1.6515915, 1.8081985, 1.2523246, 1.0158731, 1.5697323,\n",
       "        1.00993  , 1.0466868, 1.8801205, 1.8704522],\n",
       "       [1.3822478, 1.4793308, 1.0240295, 1.2177212, 1.5196092, 1.2991079,\n",
       "        1.8800128, 1.5322652, 1.5808125, 1.5693561]], dtype=float32)"
      ]
     },
     "execution_count": 56,
     "metadata": {},
     "output_type": "execute_result"
    }
   ],
   "source": [
    "x.view(3,-1).numpy()"
   ]
  },
  {
   "cell_type": "code",
   "execution_count": 53,
   "metadata": {},
   "outputs": [
    {
     "data": {
      "text/plain": [
       "array([[1.7016623, 1.7914276, 1.491406 , 1.427597 , 1.9475865],\n",
       "       [1.8033227, 1.4951804, 1.18656  , 1.9513848, 1.3952674],\n",
       "       [1.0239484, 1.6515915, 1.8081985, 1.2523246, 1.0158731],\n",
       "       [1.5697323, 1.00993  , 1.0466868, 1.8801205, 1.8704522],\n",
       "       [1.3822478, 1.4793308, 1.0240295, 1.2177212, 1.5196092],\n",
       "       [1.2991079, 1.8800128, 1.5322652, 1.5808125, 1.5693561]],\n",
       "      dtype=float32)"
      ]
     },
     "execution_count": 53,
     "metadata": {},
     "output_type": "execute_result"
    }
   ],
   "source": [
    "x.numpy()"
   ]
  },
  {
   "cell_type": "code",
   "execution_count": 57,
   "metadata": {},
   "outputs": [
    {
     "data": {
      "text/plain": [
       "False"
      ]
     },
     "execution_count": 57,
     "metadata": {},
     "output_type": "execute_result"
    }
   ],
   "source": [
    "torch.cuda.is_available()"
   ]
  },
  {
   "cell_type": "code",
   "execution_count": 2,
   "metadata": {},
   "outputs": [
    {
     "data": {
      "text/plain": [
       "torch.Tensor"
      ]
     },
     "execution_count": 2,
     "metadata": {},
     "output_type": "execute_result"
    }
   ],
   "source": [
    "torch.Tensor"
   ]
  },
  {
   "cell_type": "code",
   "execution_count": 8,
   "metadata": {},
   "outputs": [],
   "source": [
    "a = torch.randn(2, 2)\n",
    "a.requires_grad_(True)\n",
    "a = ((a * 3) / (a - 1))\n",
    "# print(a.requires_grad)\n"
   ]
  },
  {
   "cell_type": "code",
   "execution_count": 24,
   "metadata": {},
   "outputs": [],
   "source": [
    "x = torch.rand(3,5)\n",
    "x.requires_grad_(True)\n",
    "out = (x * x).sum()"
   ]
  },
  {
   "cell_type": "code",
   "execution_count": 27,
   "metadata": {},
   "outputs": [],
   "source": [
    "out.backward()"
   ]
  },
  {
   "cell_type": "code",
   "execution_count": 28,
   "metadata": {},
   "outputs": [
    {
     "name": "stdout",
     "output_type": "stream",
     "text": [
      "tensor([[1.7054, 0.2607, 1.6669, 1.2851, 0.4250],\n",
      "        [1.0825, 1.1722, 1.2196, 0.0913, 0.5207],\n",
      "        [1.5642, 1.5307, 0.3049, 1.1383, 1.3529]])\n"
     ]
    }
   ],
   "source": [
    "print(x.grad)"
   ]
  },
  {
   "cell_type": "code",
   "execution_count": 34,
   "metadata": {},
   "outputs": [],
   "source": [
    "x = torch.rand(3, requires_grad=True)"
   ]
  },
  {
   "cell_type": "code",
   "execution_count": 39,
   "metadata": {},
   "outputs": [],
   "source": [
    "y = x*2"
   ]
  },
  {
   "cell_type": "code",
   "execution_count": 48,
   "metadata": {},
   "outputs": [
    {
     "data": {
      "text/plain": [
       "tensor(1.6434)"
      ]
     },
     "execution_count": 48,
     "metadata": {},
     "output_type": "execute_result"
    }
   ],
   "source": [
    "y.data.norm()"
   ]
  },
  {
   "cell_type": "code",
   "execution_count": 51,
   "metadata": {},
   "outputs": [
    {
     "data": {
      "text/plain": [
       "tensor(1.6434, grad_fn=<NormBackward0>)"
      ]
     },
     "execution_count": 51,
     "metadata": {},
     "output_type": "execute_result"
    }
   ],
   "source": [
    "torch.norm(y,2)"
   ]
  },
  {
   "cell_type": "markdown",
   "metadata": {},
   "source": [
    "## Feedforward Neural Network\n",
    "\n",
    "![Feedforward Neural Net](images/feedforward_nn_structure.png)"
   ]
  },
  {
   "cell_type": "code",
   "execution_count": 69,
   "metadata": {},
   "outputs": [],
   "source": [
    "batch_size = 50\n",
    "D_in = 5\n",
    "h = 3\n",
    "x = torch.rand(batch_size, D_in)\n",
    "w1 = torch.randn(D_in, h)\n",
    "affine = x.mm(w1)"
   ]
  },
  {
   "cell_type": "code",
   "execution_count": 73,
   "metadata": {},
   "outputs": [
    {
     "name": "stdout",
     "output_type": "stream",
     "text": [
      "0 37252276.0\n",
      "1 33675384.0\n",
      "2 33421544.0\n",
      "3 30976762.0\n",
      "4 24297810.0\n"
     ]
    }
   ],
   "source": [
    "#### 2 layer connected NN\n",
    "\n",
    "dtype = torch.float\n",
    "device = torch.device(\"cpu\")\n",
    "N, D_in, H, D_out = 64, 1000, 100, 10\n",
    "\n",
    "\n",
    "x = torch.randn(N, D_in, device=device, dtype=dtype) # input\n",
    "y = torch.randn(N, D_out, device=device, dtype=dtype) # output\n",
    "\n",
    "# weights\n",
    "w1 = torch.randn(D_in, H, device=device, dtype=dtype, requires_grad=True)\n",
    "w2 = torch.randn(H, D_out, device=device, dtype=dtype, requires_grad=True)\n",
    "\n",
    "learning_rate = 1e-6\n",
    "for epoch in range(5):\n",
    "    y_pred = x.mm(w1).clamp(min=0).mm(w2)\n",
    "    loss = (y_pred - y).pow(2).sum()\n",
    "    print(epoch, loss.item())\n",
    "    loss.backward()\n",
    "    with torch.no_grad():\n",
    "        w1 -= learning_rate * w1.grad\n",
    "        w2 -= learning_rate * w2.grad\n",
    "        w1.grad.zero_()\n",
    "        w2.grad.zero_()"
   ]
  },
  {
   "cell_type": "code",
   "execution_count": null,
   "metadata": {},
   "outputs": [],
   "source": []
  }
 ],
 "metadata": {
  "kernelspec": {
   "display_name": "pytorch-nlp-notebooks",
   "language": "python",
   "name": "pytorch-nlp-notebooks"
  },
  "language_info": {
   "codemirror_mode": {
    "name": "ipython",
    "version": 3
   },
   "file_extension": ".py",
   "mimetype": "text/x-python",
   "name": "python",
   "nbconvert_exporter": "python",
   "pygments_lexer": "ipython3",
   "version": "3.6.8"
  }
 },
 "nbformat": 4,
 "nbformat_minor": 2
}
